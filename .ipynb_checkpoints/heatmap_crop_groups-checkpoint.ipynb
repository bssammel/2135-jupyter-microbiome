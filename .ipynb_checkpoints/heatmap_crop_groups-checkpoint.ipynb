{
 "cells": [
  {
   "cell_type": "code",
   "execution_count": 4,
   "id": "7e02e948-710a-4680-9947-00e3ad11c7e3",
   "metadata": {},
   "outputs": [
    {
     "name": "stdout",
     "output_type": "stream",
     "text": [
      "Heatmap saved as grains_heatmap.html\n",
      "Heatmap saved as legumes_heatmap.html\n",
      "Heatmap saved as vegetables_heatmap.html\n",
      "Heatmap saved as fruit or nuts_heatmap.html\n",
      "Heatmap saved as spices_heatmap.html\n"
     ]
    }
   ],
   "source": [
    "import pandas as pd\n",
    "import folium\n",
    "from folium.plugins import HeatMap\n",
    "\n",
    "# Load cleaned dataset\n",
    "df = pd.read_csv(\"./data/crop_grouped_coordinates.csv\")\n",
    "\n",
    "# Center the map roughly on Japan\n",
    "m = folium.Map(location=[36.2048, 138.2529], zoom_start=5, tiles='CartoDB positron')\n",
    "\n",
    "# Choose which crop group to map\n",
    "crop_groups = ['Grains', 'Legumes', 'Vegetables', 'Fruit or Nuts', 'Spices']  # change to \"Grains\", \"Legumes\", etc.\n",
    "\n",
    "for group in crop_groups:\n",
    "    # Filter only that crop group\n",
    "    df_group = df[df['crop_group'] == group]\n",
    "\n",
    "    # Prepare heatmap data (lat, lon)\n",
    "    heat_data = df_group[['latitude_north', 'longitude_east']].values.tolist()\n",
    "\n",
    "    # Add heatmap layer\n",
    "    HeatMap(heat_data, radius=10, blur=15, max_zoom=8).add_to(m)\n",
    "\n",
    "    # Save map to HTML file\n",
    "\n",
    "    m.save(f\"./created_content/{group.lower()}_heatmap.html\")\n",
    "    print(f\"Heatmap saved as {group.lower()}_heatmap.html\")\n"
   ]
  },
  {
   "cell_type": "code",
   "execution_count": null,
   "id": "de187518-7991-4250-9323-8705d39bdaf2",
   "metadata": {},
   "outputs": [],
   "source": []
  },
  {
   "cell_type": "code",
   "execution_count": null,
   "id": "23824269-bc34-4e67-b89a-14e37e12298b",
   "metadata": {},
   "outputs": [],
   "source": []
  }
 ],
 "metadata": {
  "kernelspec": {
   "display_name": "Python 3 (ipykernel)",
   "language": "python",
   "name": "python3"
  },
  "language_info": {
   "codemirror_mode": {
    "name": "ipython",
    "version": 3
   },
   "file_extension": ".py",
   "mimetype": "text/x-python",
   "name": "python",
   "nbconvert_exporter": "python",
   "pygments_lexer": "ipython3",
   "version": "3.9.4"
  }
 },
 "nbformat": 4,
 "nbformat_minor": 5
}
